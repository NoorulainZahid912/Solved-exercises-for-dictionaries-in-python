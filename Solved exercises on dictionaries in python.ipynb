{
 "cells": [
  {
   "cell_type": "code",
   "execution_count": null,
   "id": "29a8ac19",
   "metadata": {
    "scrolled": true
   },
   "outputs": [],
   "source": [
    "# Noor Ul Ain Zahid\n",
    "# FA24-BBD-069"
   ]
  },
  {
   "cell_type": "code",
   "execution_count": 5,
   "id": "645c5a83",
   "metadata": {
    "scrolled": true
   },
   "outputs": [
    {
     "name": "stdout",
     "output_type": "stream",
     "text": [
      "Noor Ul Ain Zahid\n",
      "19\n",
      "Lahore\n",
      "Reading\n"
     ]
    }
   ],
   "source": [
    "# (a) Create a dictionary to store information about a person (name, age, city, hobbies).\n",
    "person = {\n",
    "    \"name\": \"Noor Ul Ain Zahid\",\n",
    "    \"age\": 19,\n",
    "    \"city\": \"Lahore\",\n",
    "    \"hobbies\": \"Reading\"\n",
    "}\n",
    "\n",
    "# Accessing the information\n",
    "print(person[\"name\"]) \n",
    "print(person[\"age\"])   \n",
    "print(person[\"city\"])  \n",
    "print(person[\"hobbies\"])\n"
   ]
  },
  {
   "cell_type": "code",
   "execution_count": 3,
   "id": "03dad22f",
   "metadata": {
    "scrolled": true
   },
   "outputs": [
    {
     "name": "stdout",
     "output_type": "stream",
     "text": [
      "{'hello': 2, 'world': 2, 'everyone': 1, 'this': 1, 'is': 1, 'a': 1, 'simple': 1, 'example': 1}\n"
     ]
    }
   ],
   "source": [
    "# (b) Write a program to count the frequency of words in a given text.\n",
    "def word_frequency(text):\n",
    "    words = text.split()\n",
    "    word_count = {}\n",
    "    \n",
    "    for word in words:\n",
    "        word = word.lower().strip(\".,!?\")  # Convert to lowercase and remove punctuation\n",
    "        if word in word_count:\n",
    "            word_count[word] += 1\n",
    "        else:\n",
    "            word_count[word] = 1\n",
    "    return word_count\n",
    "\n",
    "# Example usage\n",
    "text = \"Hello world! Hello everyone. This is a simple world example.\"\n",
    "print(word_frequency(text))\n"
   ]
  },
  {
   "cell_type": "code",
   "execution_count": 6,
   "id": "9d4c7379",
   "metadata": {
    "scrolled": true
   },
   "outputs": [
    {
     "name": "stdout",
     "output_type": "stream",
     "text": [
      "Total inventory value: 73.5\n"
     ]
    }
   ],
   "source": [
    "# (c) Implement a simple inventory system using dictionaries.\n",
    "inventory = {\n",
    "    \"apple\": {\"quantity\": 50, \"price\": 0.5},\n",
    "    \"banana\": {\"quantity\": 30, \"price\": 0.3},\n",
    "    \"orange\": {\"quantity\": 20, \"price\": 0.6}\n",
    "}\n",
    "\n",
    "# Add new product\n",
    "def add_product(product_name, quantity, price):\n",
    "    inventory[product_name] = {\"quantity\": quantity, \"price\": price}\n",
    "\n",
    "# Update quantity of existing product\n",
    "def update_quantity(product_name, quantity):\n",
    "    if product_name in inventory:\n",
    "        inventory[product_name][\"quantity\"] += quantity\n",
    "    else:\n",
    "        print(\"Product not found!\")\n",
    "\n",
    "# Calculate total value of inventory\n",
    "def total_inventory_value():\n",
    "    total_value = 0\n",
    "    for product in inventory.values():\n",
    "        total_value += product[\"quantity\"] * product[\"price\"]\n",
    "    return total_value\n",
    "\n",
    "# Example usage\n",
    "add_product(\"grapes\", 25, 0.7)\n",
    "update_quantity(\"apple\", 20)\n",
    "print(\"Total inventory value:\", total_inventory_value())\n"
   ]
  },
  {
   "cell_type": "code",
   "execution_count": 4,
   "id": "66c094de",
   "metadata": {
    "scrolled": true
   },
   "outputs": [
    {
     "name": "stdout",
     "output_type": "stream",
     "text": [
      "Most popular category: Electronics\n"
     ]
    }
   ],
   "source": [
    "# (d) Analyze a dataset of customer orders to find the most popular product category.\n",
    "# Sample dataset\n",
    "orders = [\n",
    "    {\"order_id\": 1, \"product\": \"Laptop\", \"category\": \"Electronics\"},\n",
    "    {\"order_id\": 2, \"product\": \"Phone\", \"category\": \"Electronics\"},\n",
    "    {\"order_id\": 3, \"product\": \"Shoes\", \"category\": \"Fashion\"},\n",
    "    {\"order_id\": 4, \"product\": \"Shirt\", \"category\": \"Fashion\"},\n",
    "    {\"order_id\": 5, \"product\": \"Laptop\", \"category\": \"Electronics\"},\n",
    "]\n",
    "\n",
    "def most_popular_category(orders):\n",
    "    category_count = {}\n",
    "    \n",
    "    for order in orders:\n",
    "        category = order[\"category\"]\n",
    "        if category in category_count:\n",
    "            category_count[category] += 1\n",
    "        else:\n",
    "            category_count[category] = 1\n",
    "    \n",
    "    # Finding the category with the maximum count\n",
    "    popular_category = max(category_count, key=category_count.get)\n",
    "    return popular_category\n",
    "\n",
    "print(\"Most popular category:\", most_popular_category(orders))\n"
   ]
  },
  {
   "cell_type": "code",
   "execution_count": 7,
   "id": "1caa91a5",
   "metadata": {
    "scrolled": true
   },
   "outputs": [
    {
     "name": "stdout",
     "output_type": "stream",
     "text": [
      "Alice: 88.33333333333333\n",
      "Bob: 79.33333333333333\n",
      "Charlie: 89.0\n"
     ]
    }
   ],
   "source": [
    "# (e) Create a dictionary to store student grades and calculate the average grade.\n",
    "students_grades = {\n",
    "    \"Alice\": [85, 92, 88],\n",
    "    \"Bob\": [78, 81, 79],\n",
    "    \"Charlie\": [90, 85, 92]\n",
    "}\n",
    "\n",
    "# Calculate average grade for each student\n",
    "def average_grade(grades):\n",
    "    return sum(grades) / len(grades)\n",
    "\n",
    "# Example usage\n",
    "for student, grades in students_grades.items():\n",
    "    print(f\"{student}: {average_grade(grades)}\")\n"
   ]
  },
  {
   "cell_type": "code",
   "execution_count": 8,
   "id": "07b17bbd",
   "metadata": {
    "scrolled": true
   },
   "outputs": [
    {
     "name": "stdout",
     "output_type": "stream",
     "text": [
      "Total inventory value: 44.5\n",
      "Low stock items: {'grapes': {'quantity': 5, 'price': 0.7}}\n"
     ]
    }
   ],
   "source": [
    "# (f) Inventory Management: Create a dictionary to store product information.\n",
    "# Add new products\n",
    "# Update product quantities\n",
    "# Calculate total inventory value\n",
    "# Generate a report of low-stock items\n",
    "inventory = {\n",
    "    \"apple\": {\"quantity\": 50, \"price\": 0.5},\n",
    "    \"banana\": {\"quantity\": 30, \"price\": 0.3},\n",
    "    \"orange\": {\"quantity\": 20, \"price\": 0.6}\n",
    "}\n",
    "\n",
    "def add_product(product_name, quantity, price):\n",
    "    inventory[product_name] = {\"quantity\": quantity, \"price\": price}\n",
    "\n",
    "def update_quantity(product_name, quantity):\n",
    "    if product_name in inventory:\n",
    "        inventory[product_name][\"quantity\"] += quantity\n",
    "    else:\n",
    "        print(\"Product not found!\")\n",
    "\n",
    "def total_inventory_value():\n",
    "    total_value = 0\n",
    "    for product in inventory.values():\n",
    "        total_value += product[\"quantity\"] * product[\"price\"]\n",
    "    return total_value\n",
    "\n",
    "def low_stock_report(threshold=10):\n",
    "    low_stock_items = {product: details for product, details in inventory.items() if details[\"quantity\"] <= threshold}\n",
    "    return low_stock_items\n",
    "\n",
    "# Example usage\n",
    "add_product(\"grapes\", 5, 0.7)\n",
    "update_quantity(\"apple\", -10)\n",
    "print(\"Total inventory value:\", total_inventory_value())\n",
    "print(\"Low stock items:\", low_stock_report(10))\n"
   ]
  },
  {
   "cell_type": "code",
   "execution_count": 9,
   "id": "254cf6ee",
   "metadata": {
    "scrolled": true
   },
   "outputs": [
    {
     "name": "stdout",
     "output_type": "stream",
     "text": [
      "Alice: 88.33333333333333\n",
      "Bob: 79.33333333333333\n",
      "Charlie: 89.0\n",
      "Highest grade in math: Charlie, Lowest grade in math: Bob\n",
      "Students sorted by average grade: ['Charlie', 'Alice', 'Bob']\n"
     ]
    }
   ],
   "source": [
    "# (g) Student Gradebook: Calculate average grades, highest and lowest grades.\n",
    "students = {\n",
    "    \"Alice\": {\"math\": 85, \"science\": 92, \"english\": 88},\n",
    "    \"Bob\": {\"math\": 78, \"science\": 81, \"english\": 79},\n",
    "    \"Charlie\": {\"math\": 90, \"science\": 85, \"english\": 92}\n",
    "}\n",
    "\n",
    "def average_grade(grades):\n",
    "    return sum(grades.values()) / len(grades)\n",
    "\n",
    "def highest_and_lowest_grade(subject):\n",
    "    grades = {student: data[subject] for student, data in students.items()}\n",
    "    highest = max(grades, key=grades.get)\n",
    "    lowest = min(grades, key=grades.get)\n",
    "    return highest, lowest\n",
    "\n",
    "# Calculate average grade for each student\n",
    "for student, grades in students.items():\n",
    "    print(f\"{student}: {average_grade(grades)}\")\n",
    "\n",
    "# Find highest and lowest grade in math\n",
    "highest, lowest = highest_and_lowest_grade(\"math\")\n",
    "print(f\"Highest grade in math: {highest}, Lowest grade in math: {lowest}\")\n",
    "\n",
    "# Sort students by average grade\n",
    "sorted_students = sorted(students.items(), key=lambda x: average_grade(x[1]), reverse=True)\n",
    "print(\"Students sorted by average grade:\", [student[0] for student in sorted_students])\n",
    "\n"
   ]
  },
  {
   "cell_type": "code",
   "execution_count": 10,
   "id": "cc44370b",
   "metadata": {
    "scrolled": true
   },
   "outputs": [
    {
     "name": "stdout",
     "output_type": "stream",
     "text": [
      "Cart total: 2500\n",
      "Total after 10% discount: 2250.0\n",
      "Total after 8% tax: 2430.0\n"
     ]
    }
   ],
   "source": [
    "# (h) Simple E-commerce Store: Add items to cart, calculate total with discounts and taxes.\n",
    "products = {\n",
    "    \"Laptop\": {\"price\": 1000, \"quantity\": 10},\n",
    "    \"Phone\": {\"price\": 500, \"quantity\": 20},\n",
    "    \"Headphones\": {\"price\": 150, \"quantity\": 50}\n",
    "}\n",
    "\n",
    "cart = {}\n",
    "\n",
    "def add_to_cart(product_name, quantity):\n",
    "    if product_name in products and products[product_name][\"quantity\"] >= quantity:\n",
    "        if product_name in cart:\n",
    "            cart[product_name][\"quantity\"] += quantity\n",
    "        else:\n",
    "            cart[product_name] = {\"price\": products[product_name][\"price\"], \"quantity\": quantity}\n",
    "        products[product_name][\"quantity\"] -= quantity\n",
    "    else:\n",
    "        print(\"Product not available or insufficient stock.\")\n",
    "\n",
    "def remove_from_cart(product_name):\n",
    "    if product_name in cart:\n",
    "        products[product_name][\"quantity\"] += cart[product_name][\"quantity\"]\n",
    "        del cart[product_name]\n",
    "    else:\n",
    "        print(\"Product not in cart.\")\n",
    "\n",
    "def calculate_total():\n",
    "    total = sum(item[\"price\"] * item[\"quantity\"] for item in cart.values())\n",
    "    return total\n",
    "\n",
    "def apply_discount(total, discount_percentage):\n",
    "    return total - (total * discount_percentage / 100)\n",
    "\n",
    "def apply_tax(total, tax_percentage):\n",
    "    return total + (total * tax_percentage / 100)\n",
    "\n",
    "# Example usage\n",
    "add_to_cart(\"Laptop\", 2)\n",
    "add_to_cart(\"Phone\", 1)\n",
    "print(\"Cart total:\", calculate_total())\n",
    "total_after_discount = apply_discount(calculate_total(), 10)\n",
    "print(\"Total after 10% discount:\", total_after_discount)\n",
    "total_after_tax = apply_tax(total_after_discount, 8)\n",
    "print(\"Total after 8% tax:\", total_after_tax)\n"
   ]
  }
 ],
 "metadata": {
  "kernelspec": {
   "display_name": "Python 3 (ipykernel)",
   "language": "python",
   "name": "python3"
  },
  "language_info": {
   "codemirror_mode": {
    "name": "ipython",
    "version": 3
   },
   "file_extension": ".py",
   "mimetype": "text/x-python",
   "name": "python",
   "nbconvert_exporter": "python",
   "pygments_lexer": "ipython3",
   "version": "3.11.5"
  }
 },
 "nbformat": 4,
 "nbformat_minor": 5
}
